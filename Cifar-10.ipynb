{
 "cells": [
  {
   "cell_type": "code",
   "execution_count": 42,
   "metadata": {},
   "outputs": [],
   "source": [
    "import pandas as pd\n",
    "from keras.layers import Dense,Flatten,Conv2D,MaxPooling2D,Dropout\n",
    "from keras.models import Sequential"
   ]
  },
  {
   "cell_type": "code",
   "execution_count": 4,
   "metadata": {},
   "outputs": [],
   "source": [
    "import cifar10\n",
    "import matplotlib.pyplot as plt"
   ]
  },
  {
   "cell_type": "code",
   "execution_count": 5,
   "metadata": {},
   "outputs": [],
   "source": [
    "cifar10.data_path = \"data/CIFAR-10/\""
   ]
  },
  {
   "cell_type": "code",
   "execution_count": 6,
   "metadata": {},
   "outputs": [
    {
     "name": "stdout",
     "output_type": "stream",
     "text": [
      "- Download progress: 99.7%Done.\n"
     ]
    }
   ],
   "source": [
    "cifar10.maybe_download_and_extract()"
   ]
  },
  {
   "cell_type": "code",
   "execution_count": 7,
   "metadata": {},
   "outputs": [
    {
     "name": "stdout",
     "output_type": "stream",
     "text": [
      "Loading data: data/CIFAR-10/cifar-10-batches-py/batches.meta\n"
     ]
    },
    {
     "data": {
      "text/plain": [
       "['airplane',\n",
       " 'automobile',\n",
       " 'bird',\n",
       " 'cat',\n",
       " 'deer',\n",
       " 'dog',\n",
       " 'frog',\n",
       " 'horse',\n",
       " 'ship',\n",
       " 'truck']"
      ]
     },
     "execution_count": 7,
     "metadata": {},
     "output_type": "execute_result"
    }
   ],
   "source": [
    "class_names = cifar10.load_class_names()\n",
    "class_names"
   ]
  },
  {
   "cell_type": "code",
   "execution_count": 8,
   "metadata": {},
   "outputs": [
    {
     "name": "stdout",
     "output_type": "stream",
     "text": [
      "Loading data: data/CIFAR-10/cifar-10-batches-py/data_batch_1\n",
      "Loading data: data/CIFAR-10/cifar-10-batches-py/data_batch_2\n",
      "Loading data: data/CIFAR-10/cifar-10-batches-py/data_batch_3\n",
      "Loading data: data/CIFAR-10/cifar-10-batches-py/data_batch_4\n",
      "Loading data: data/CIFAR-10/cifar-10-batches-py/data_batch_5\n",
      "Loading data: data/CIFAR-10/cifar-10-batches-py/test_batch\n"
     ]
    }
   ],
   "source": [
    "images_train, cls_train, labels_train = cifar10.load_training_data()\n",
    "images_test, cls_test, labels_test = cifar10.load_test_data()"
   ]
  },
  {
   "cell_type": "code",
   "execution_count": 10,
   "metadata": {},
   "outputs": [
    {
     "data": {
      "text/plain": [
       "((50000, 32, 32, 3), (50000, 10))"
      ]
     },
     "execution_count": 10,
     "metadata": {},
     "output_type": "execute_result"
    }
   ],
   "source": [
    "images_train.shape , labels_train.shape"
   ]
  },
  {
   "cell_type": "code",
   "execution_count": 11,
   "metadata": {},
   "outputs": [
    {
     "data": {
      "text/plain": [
       "(50000, 10)"
      ]
     },
     "execution_count": 11,
     "metadata": {},
     "output_type": "execute_result"
    }
   ],
   "source": [
    "labels_train.shape"
   ]
  },
  {
   "cell_type": "markdown",
   "metadata": {},
   "source": [
    "# 67.27%"
   ]
  },
  {
   "cell_type": "code",
   "execution_count": 51,
   "metadata": {},
   "outputs": [],
   "source": [
    "model = Sequential()\n",
    "model.add( Conv2D(50,(6,6),activation='relu' ,input_shape= (32,32,3)  ) )\n",
    "model.add(MaxPooling2D((4,4)))\n",
    "model.add(Flatten())\n",
    "model.add(Dense(512,activation='relu'))\n",
    "model.add(Dense(256,activation='relu'))\n",
    "model.add(Dense(128,activation='relu'))\n",
    "model.add(Dense(10,activation='softmax' ))"
   ]
  },
  {
   "cell_type": "code",
   "execution_count": 52,
   "metadata": {},
   "outputs": [],
   "source": [
    "model.compile(optimizer='adam',loss='categorical_crossentropy',metrics=['accuracy'])"
   ]
  },
  {
   "cell_type": "code",
   "execution_count": 53,
   "metadata": {},
   "outputs": [
    {
     "name": "stdout",
     "output_type": "stream",
     "text": [
      "Epoch 1/20\n",
      "500/500 [==============================] - 41s 83ms/step - loss: 1.5395 - accuracy: 0.4395\n",
      "Epoch 2/20\n",
      "500/500 [==============================] - 48s 95ms/step - loss: 1.1812 - accuracy: 0.5806\n",
      "Epoch 3/20\n",
      "500/500 [==============================] - 41s 82ms/step - loss: 1.0306 - accuracy: 0.6340\n",
      "Epoch 4/20\n",
      "500/500 [==============================] - 41s 82ms/step - loss: 0.9070 - accuracy: 0.6822\n",
      "Epoch 5/20\n",
      "500/500 [==============================] - 42s 83ms/step - loss: 0.8091 - accuracy: 0.7161\n",
      "Epoch 6/20\n",
      "500/500 [==============================] - 42s 84ms/step - loss: 0.7214 - accuracy: 0.7481\n",
      "Epoch 7/20\n",
      "500/500 [==============================] - 48s 96ms/step - loss: 0.6310 - accuracy: 0.7799\n",
      "Epoch 8/20\n",
      "500/500 [==============================] - 44s 88ms/step - loss: 0.5428 - accuracy: 0.8114\n",
      "Epoch 9/20\n",
      "500/500 [==============================] - 44s 87ms/step - loss: 0.4656 - accuracy: 0.8394\n",
      "Epoch 10/20\n",
      "500/500 [==============================] - 44s 87ms/step - loss: 0.4096 - accuracy: 0.8587\n",
      "Epoch 11/20\n",
      "500/500 [==============================] - 46s 93ms/step - loss: 0.3344 - accuracy: 0.8822\n",
      "Epoch 12/20\n",
      "500/500 [==============================] - 56s 112ms/step - loss: 0.2832 - accuracy: 0.9006\n",
      "Epoch 13/20\n",
      "500/500 [==============================] - 45s 89ms/step - loss: 0.2396 - accuracy: 0.9162\n",
      "Epoch 14/20\n",
      "500/500 [==============================] - 43s 85ms/step - loss: 0.2058 - accuracy: 0.9288\n",
      "Epoch 15/20\n",
      "500/500 [==============================] - 43s 86ms/step - loss: 0.1744 - accuracy: 0.9404\n",
      "Epoch 16/20\n",
      "500/500 [==============================] - 45s 90ms/step - loss: 0.1689 - accuracy: 0.9405\n",
      "Epoch 17/20\n",
      "500/500 [==============================] - 45s 91ms/step - loss: 0.1441 - accuracy: 0.9501\n",
      "Epoch 18/20\n",
      "500/500 [==============================] - 44s 88ms/step - loss: 0.1288 - accuracy: 0.9558\n",
      "Epoch 19/20\n",
      "500/500 [==============================] - 44s 88ms/step - loss: 0.1310 - accuracy: 0.9552\n",
      "Epoch 20/20\n",
      "500/500 [==============================] - 44s 89ms/step - loss: 0.1152 - accuracy: 0.9604\n"
     ]
    },
    {
     "data": {
      "text/plain": [
       "<tensorflow.python.keras.callbacks.History at 0x7f93ceb72ac0>"
      ]
     },
     "execution_count": 53,
     "metadata": {},
     "output_type": "execute_result"
    }
   ],
   "source": [
    "model.fit(images_train,labels_train,epochs=20,batch_size=100)"
   ]
  },
  {
   "cell_type": "code",
   "execution_count": 54,
   "metadata": {},
   "outputs": [
    {
     "name": "stdout",
     "output_type": "stream",
     "text": [
      "313/313 [==============================] - 3s 9ms/step - loss: 1.9889 - accuracy: 0.6727\n"
     ]
    },
    {
     "data": {
      "text/plain": [
       "[1.9888861179351807, 0.6726999878883362]"
      ]
     },
     "execution_count": 54,
     "metadata": {},
     "output_type": "execute_result"
    }
   ],
   "source": [
    "model.evaluate(images_test,labels_test)"
   ]
  },
  {
   "cell_type": "code",
   "execution_count": 55,
   "metadata": {},
   "outputs": [
    {
     "name": "stdout",
     "output_type": "stream",
     "text": [
      "WARNING:tensorflow:From <ipython-input-55-025e39311bc6>:1: Sequential.predict_classes (from tensorflow.python.keras.engine.sequential) is deprecated and will be removed after 2021-01-01.\n",
      "Instructions for updating:\n",
      "Please use instead:* `np.argmax(model.predict(x), axis=-1)`,   if your model does multi-class classification   (e.g. if it uses a `softmax` last-layer activation).* `(model.predict(x) > 0.5).astype(\"int32\")`,   if your model does binary classification   (e.g. if it uses a `sigmoid` last-layer activation).\n"
     ]
    },
    {
     "data": {
      "text/plain": [
       "array([3, 8, 8, ..., 5, 1, 7])"
      ]
     },
     "execution_count": 55,
     "metadata": {},
     "output_type": "execute_result"
    }
   ],
   "source": [
    "model.predict_classes(images_test)"
   ]
  },
  {
   "cell_type": "code",
   "execution_count": 57,
   "metadata": {},
   "outputs": [
    {
     "data": {
      "text/plain": [
       "{0: 'airplane',\n",
       " 1: 'automobile',\n",
       " 2: 'bird',\n",
       " 3: 'cat',\n",
       " 4: 'deer',\n",
       " 5: 'dog',\n",
       " 6: 'frog',\n",
       " 7: 'horse',\n",
       " 8: 'ship',\n",
       " 9: 'truck'}"
      ]
     },
     "execution_count": 57,
     "metadata": {},
     "output_type": "execute_result"
    }
   ],
   "source": [
    "d = {}\n",
    "i=0\n",
    "\n",
    "for c in class_names:\n",
    "    d[i] = c\n",
    "    i+=1\n",
    "d"
   ]
  },
  {
   "cell_type": "code",
   "execution_count": 60,
   "metadata": {},
   "outputs": [],
   "source": [
    "predictions=model.predict_classes(images_test)\n",
    "ans = pd.Series(predictions).replace(d)"
   ]
  },
  {
   "cell_type": "code",
   "execution_count": 61,
   "metadata": {},
   "outputs": [
    {
     "data": {
      "text/plain": [
       "0              cat\n",
       "1             ship\n",
       "2             ship\n",
       "3         airplane\n",
       "4             frog\n",
       "           ...    \n",
       "9995          ship\n",
       "9996          frog\n",
       "9997           dog\n",
       "9998    automobile\n",
       "9999         horse\n",
       "Length: 10000, dtype: object"
      ]
     },
     "execution_count": 61,
     "metadata": {},
     "output_type": "execute_result"
    }
   ],
   "source": [
    "ans"
   ]
  }
 ],
 "metadata": {
  "kernelspec": {
   "display_name": "Python 3",
   "language": "python",
   "name": "python3"
  },
  "language_info": {
   "codemirror_mode": {
    "name": "ipython",
    "version": 3
   },
   "file_extension": ".py",
   "mimetype": "text/x-python",
   "name": "python",
   "nbconvert_exporter": "python",
   "pygments_lexer": "ipython3",
   "version": "3.8.3"
  }
 },
 "nbformat": 4,
 "nbformat_minor": 4
}
